{
 "cells": [
  {
   "cell_type": "code",
   "execution_count": 1,
   "id": "4381177b",
   "metadata": {},
   "outputs": [],
   "source": [
    "import subprocess\n",
    "import os\n",
    "\n",
    "# Source the config.sh file and capture the environment\n",
    "result = subprocess.run(['bash', '-c', 'source ../config.sh && env'], \n",
    "                       capture_output=True, text=True)\n",
    "\n",
    "# Parse the environment variables\n",
    "for line in result.stdout.strip().split('\\n'):\n",
    "    if '=' in line:\n",
    "        key, value = line.split('=', 1)\n",
    "        os.environ[key] = value"
   ]
  },
  {
   "cell_type": "code",
   "execution_count": 2,
   "id": "1ca25179",
   "metadata": {},
   "outputs": [],
   "source": [
    "import coamp_graph\n",
    "import importlib\n",
    "importlib.reload(coamp_graph)\n",
    "from coamp_graph import Graph\n",
    "import coamp_graph_notebook_utils\n",
    "import numpy as np\n",
    "import matplotlib.pyplot as plt\n",
    "import pandas as pd"
   ]
  },
  {
   "cell_type": "code",
   "execution_count": 3,
   "id": "096785ff",
   "metadata": {},
   "outputs": [
    {
     "data": {
      "text/plain": [
       "['CCLE',\n",
       " 'COLO320',\n",
       " 'COLO320 DM & HSR hg38',\n",
       " 'COLOtest',\n",
       " 'GBM39',\n",
       " 'PCAWG',\n",
       " 'TCGA']"
      ]
     },
     "execution_count": 3,
     "metadata": {},
     "output_type": "execute_result"
    }
   ],
   "source": [
    "coamp_graph_notebook_utils.get_all_projects()"
   ]
  },
  {
   "cell_type": "code",
   "execution_count": null,
   "id": "1268aa70",
   "metadata": {},
   "outputs": [],
   "source": [
    "coamp_graph_notebook_utils.get_all_alias()"
   ]
  },
  {
   "cell_type": "code",
   "execution_count": null,
   "id": "a4c5276a",
   "metadata": {},
   "outputs": [],
   "source": [
    "#small_project_list = ['COLO320', 'GBM39']\n",
    "small_project_list = ['ec3D']\n",
    "small_df, __ = coamp_graph_notebook_utils.concat_projects(small_project_list)\n",
    "small_graph = Graph(small_df)"
   ]
  },
  {
   "cell_type": "code",
   "execution_count": null,
   "id": "eb268bf0",
   "metadata": {},
   "outputs": [],
   "source": [
    "project_list = ['CCLE', 'PCAWG', 'TCGA']\n",
    "#project_list = ['CCLE with metadata', 'DepMap', 'PCAWG']  # jens\n",
    "df, __ = coamp_graph_notebook_utils.concat_projects(project_list)\n",
    "graph = Graph(df)"
   ]
  },
  {
   "cell_type": "code",
   "execution_count": null,
   "id": "00b9c447",
   "metadata": {},
   "outputs": [],
   "source": [
    "# test selection\n",
    "# --------------\n",
    "# 0: single-interval\n",
    "# 1: multi-interval\n",
    "# 2: multi-chromosomal\n",
    "# 3: multi-ecdna\n",
    "graph.test_dry_run(\"CDK4\", \"MDM2\", test=1)"
   ]
  },
  {
   "cell_type": "code",
   "execution_count": null,
   "id": "7e0398e7",
   "metadata": {},
   "outputs": [],
   "source": [
    "graph.test_selection_dry_run(\"CASC11\", \"MYC\")"
   ]
  },
  {
   "cell_type": "code",
   "execution_count": null,
   "id": "0fc016a8",
   "metadata": {},
   "outputs": [],
   "source": [
    "graph.test_dry_run(\"CASC11\", \"MYC\")"
   ]
  },
  {
   "cell_type": "code",
   "execution_count": null,
   "id": "a6c737ce",
   "metadata": {},
   "outputs": [],
   "source": [
    "# compare interval json dumps after reimplementation with interval tree\n",
    "# small_graph.export_intervals(output_file=\"intervals_small_dataset.json\")\n",
    "# graph.export_intervals(output_file=\"intervals_new.json\")"
   ]
  },
  {
   "cell_type": "code",
   "execution_count": null,
   "id": "9691150f",
   "metadata": {},
   "outputs": [],
   "source": [
    "# small_graph.Nodes()[0]"
   ]
  },
  {
   "cell_type": "code",
   "execution_count": null,
   "id": "e34f63aa",
   "metadata": {},
   "outputs": [],
   "source": [
    "small_graph.Edges()[0]"
   ]
  },
  {
   "cell_type": "code",
   "execution_count": null,
   "id": "51958464",
   "metadata": {},
   "outputs": [],
   "source": [
    "small_graph.test_selection_dry_run(\"CASC11\", \"PRNCR1\")"
   ]
  },
  {
   "cell_type": "code",
   "execution_count": null,
   "id": "97b51da9",
   "metadata": {},
   "outputs": [],
   "source": [
    "# test selection\n",
    "# --------------\n",
    "# 0: single-interval\n",
    "# 1: multi-interval\n",
    "# 2: multi-chromosomal\n",
    "# 3: multi-ecdna\n",
    "graph.test_dry_run(\"CDK4\", \"MDM2\", test=1)"
   ]
  }
 ],
 "metadata": {
  "kernelspec": {
   "display_name": "Python 3 (ipykernel)",
   "language": "python",
   "name": "python3"
  },
  "language_info": {
   "codemirror_mode": {
    "name": "ipython",
    "version": 3
   },
   "file_extension": ".py",
   "mimetype": "text/x-python",
   "name": "python",
   "nbconvert_exporter": "python",
   "pygments_lexer": "ipython3",
   "version": "3.8.20"
  }
 },
 "nbformat": 4,
 "nbformat_minor": 5
}
