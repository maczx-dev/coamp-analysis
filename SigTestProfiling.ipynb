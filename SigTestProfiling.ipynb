{
 "cells": [
  {
   "cell_type": "code",
   "execution_count": 1,
   "id": "f89b67ff",
   "metadata": {},
   "outputs": [
    {
     "name": "stdout",
     "output_type": "stream",
     "text": [
      "config.sh sourced successfully!\n"
     ]
    }
   ],
   "source": [
    "# SET THIS PATH TO THE LOCATION OF COAMP_GRAPH.PY\n",
    "caper_dir = \"/home/jens/Desktop/research/dev/AmpliconRepository/caper/caper\"  # Jens\n",
    "\n",
    "from configure_env import *\n",
    "configure_env(caper_dir)\n",
    "import coamp_graph\n",
    "import importlib\n",
    "importlib.reload(coamp_graph)  # This makes it so you don't need to restart kernel between changes to codebase\n",
    "from coamp_graph import Graph\n",
    "import coamp_graph_notebook_utils\n",
    "import numpy as np\n",
    "import matplotlib.pyplot as plt\n",
    "import pandas as pd"
   ]
  },
  {
   "cell_type": "code",
   "execution_count": null,
   "id": "17057c33",
   "metadata": {},
   "outputs": [],
   "source": [
    "project_list = []\n",
    "df, __ = coamp_graph_notebook_utils.concat_projects(project_list)\n",
    "graph = Graph(df)\n",
    "nodes = graph.Nodes()\n",
    "edges = graph.Edges()"
   ]
  }
 ],
 "metadata": {
  "kernelspec": {
   "display_name": "Python 3 (ipykernel)",
   "language": "python",
   "name": "python3"
  },
  "language_info": {
   "codemirror_mode": {
    "name": "ipython",
    "version": 3
   },
   "file_extension": ".py",
   "mimetype": "text/x-python",
   "name": "python",
   "nbconvert_exporter": "python",
   "pygments_lexer": "ipython3",
   "version": "3.11.3"
  }
 },
 "nbformat": 4,
 "nbformat_minor": 5
}
